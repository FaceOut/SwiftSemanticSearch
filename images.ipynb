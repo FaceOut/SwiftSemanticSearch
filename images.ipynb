{
 "cells": [
  {
   "cell_type": "markdown",
   "metadata": {},
   "source": [
    "# Dataset Preparation\n",
    "\n",
    "## Download"
   ]
  },
  {
   "cell_type": "code",
   "execution_count": null,
   "metadata": {},
   "outputs": [],
   "source": [
    "!wget \"https://huggingface.co/datasets/unum-cloud/ann-unsplash-25k/resolve/main/images.zip?download=true\" -O images.zip\n",
    "!unzip images.zip\n",
    "!ls images | wc -l"
   ]
  },
  {
   "cell_type": "code",
   "execution_count": null,
   "metadata": {},
   "outputs": [],
   "source": [
    "!unzip images.zip\n",
    "!ls images | wc -l"
   ]
  },
  {
   "cell_type": "code",
   "execution_count": null,
   "metadata": {},
   "outputs": [],
   "source": [
    "!wget \"https://huggingface.co/datasets/unum-cloud/ann-unsplash-25k/resolve/main/images.csv?download=true\" -O images.csv"
   ]
  },
  {
   "cell_type": "code",
   "execution_count": null,
   "metadata": {},
   "outputs": [],
   "source": [
    "!wget \"https://huggingface.co/datasets/unum-cloud/ann-unsplash-25k/resolve/main/images.txt?download=true\" -O images.txt"
   ]
  },
  {
   "cell_type": "code",
   "execution_count": null,
   "metadata": {},
   "outputs": [],
   "source": [
    "!pip install uform pandas pillow"
   ]
  },
  {
   "cell_type": "markdown",
   "metadata": {},
   "source": [
    "## Embed"
   ]
  },
  {
   "cell_type": "code",
   "execution_count": null,
   "metadata": {},
   "outputs": [],
   "source": [
    "images_base64 = open(\"images.txt\", \"r\").readlines()\n",
    "images_base64"
   ]
  },
  {
   "cell_type": "code",
   "execution_count": null,
   "metadata": {},
   "outputs": [],
   "source": [
    "from io import BytesIO\n",
    "from base64 import b64decode\n",
    "from PIL import Image\n",
    "import re\n",
    "\n",
    "def data_to_image(data_uri: str) -> Image:\n",
    "    \"\"\"Convert a base64-encoded data URI to a Pillow Image.\"\"\"\n",
    "    # Find the base64 string portion by removing the prefix using regex\n",
    "    base64_str = re.search(r'base64,(.*)', data_uri).group(1)\n",
    "    \n",
    "    # Decode the base64 string\n",
    "    image_data = b64decode(base64_str)\n",
    "    \n",
    "    # Read the image data into a BytesIO buffer and open it with PIL\n",
    "    image = Image.open(BytesIO(image_data))\n",
    "    \n",
    "    return image\n",
    "\n",
    "data_to_image(images_base64[0])"
   ]
  },
  {
   "cell_type": "code",
   "execution_count": null,
   "metadata": {},
   "outputs": [],
   "source": [
    "import uform\n",
    "model, processor = uform.get_model('unum-cloud/uform-vl-english-small')"
   ]
  },
  {
   "cell_type": "code",
   "execution_count": null,
   "metadata": {},
   "outputs": [],
   "source": [
    "import os\n",
    "from tqdm import tqdm\n",
    "\n",
    "vectors = []\n",
    "batch_size = 32\n",
    "\n",
    "for i in tqdm(range(0, len(images_base64), batch_size), desc=\"Vectorizing images\"):\n",
    "    batch = images_base64[i:i+batch_size]\n",
    "    images = [data_to_image(image_base64) for image_base64 in batch]\n",
    "    image_data = processor.preprocess_image(images)\n",
    "    image_embeddings = model.encode_image(image_data)\n",
    "    vectors.extend(image_embeddings)\n",
    "\n",
    "len(vectors)"
   ]
  }
 ],
 "metadata": {
  "kernelspec": {
   "display_name": "base",
   "language": "python",
   "name": "python3"
  },
  "language_info": {
   "codemirror_mode": {
    "name": "ipython",
    "version": 3
   },
   "file_extension": ".py",
   "mimetype": "text/x-python",
   "name": "python",
   "nbconvert_exporter": "python",
   "pygments_lexer": "ipython3",
   "version": "3.10.11"
  }
 },
 "nbformat": 4,
 "nbformat_minor": 2
}
